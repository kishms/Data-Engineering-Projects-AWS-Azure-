{
	"metadata": {
		"kernelspec": {
			"name": "glue_pyspark",
			"display_name": "Glue PySpark",
			"language": "python"
		},
		"language_info": {
			"name": "Python_Glue_Session",
			"mimetype": "text/x-python",
			"codemirror_mode": {
				"name": "python",
				"version": 3
			},
			"pygments_lexer": "python3",
			"file_extension": ".py"
		}
	},
	"nbformat_minor": 4,
	"nbformat": 4,
	"cells": [
		{
			"cell_type": "code",
			"source": "df_users.printSchema()\ndf_cards.printSchema()\ndf_transactions.printSchema()\n",
			"metadata": {
				"trusted": true,
				"tags": []
			},
			"execution_count": 4,
			"outputs": [
				{
					"name": "stdout",
					"text": "root\n |-- address: string (nullable = true)\n |-- birth_month: string (nullable = true)\n |-- birth_year: string (nullable = true)\n |-- credit_score: string (nullable = true)\n |-- current_age: string (nullable = true)\n |-- gender: string (nullable = true)\n |-- id: string (nullable = true)\n |-- latitude: string (nullable = true)\n |-- longitude: string (nullable = true)\n |-- num_credit_cards: string (nullable = true)\n |-- per_capita_income: float (nullable = true)\n |-- retirement_age: string (nullable = true)\n |-- total_debt: float (nullable = true)\n |-- yearly_income: float (nullable = true)\n |-- errors: string (nullable = true)\n\nroot\n |-- acct_open_date: date (nullable = true)\n |-- card_brand: string (nullable = true)\n |-- card_number: string (nullable = true)\n |-- card_on_dark_web: string (nullable = true)\n |-- card_type: string (nullable = true)\n |-- client_id: string (nullable = true)\n |-- credit_limit: double (nullable = true)\n |-- cvv: string (nullable = true)\n |-- expires: date (nullable = true)\n |-- has_chip: string (nullable = true)\n |-- id: string (nullable = true)\n |-- num_cards_issued: string (nullable = true)\n |-- year_pin_last_changed: string (nullable = true)\n\nroot\n |-- amount: float (nullable = true)\n |-- card_id: string (nullable = true)\n |-- client_id: string (nullable = true)\n |-- date: string (nullable = true)\n |-- errors: string (nullable = true)\n |-- id: string (nullable = true)\n |-- mcc: string (nullable = true)\n |-- merchant_city: string (nullable = true)\n |-- merchant_id: string (nullable = true)\n |-- merchant_state: string (nullable = true)\n |-- use_chip: string (nullable = true)\n |-- zip: integer (nullable = true)\n",
					"output_type": "stream"
				}
			]
		},
		{
			"cell_type": "code",
			"source": "\n# Gold Layer Star Schema Creation\n\nfrom awsglue.context import GlueContext\nfrom pyspark.context import SparkContext\n\n# Glue & Spark Context \nsc = SparkContext.getOrCreate()\nglueContext = GlueContext(sc)\nspark = glueContext.spark_session\n\n# --- 1. Read data from Silver Layer ---\nsilver_bucket = \"s3://aws-project-1-mskish/silver-layer\"\n\ndf_users = spark.read.parquet(f\"{silver_bucket}/users-topic/\")\ndf_cards = spark.read.parquet(f\"{silver_bucket}/cards-topic/\")\ndf_transactions = spark.read.parquet(f\"{silver_bucket}/transactions-topic/\")\n\n# --- 2. Build Dimensions & Fact ---\n\n# Dimension: Users\ndim_users = (\n    df_users.select(\n        \"id\",\n        \"gender\",\n        \"address\",\n        \"yearly_income\",\n        \"credit_score\",\n        \"current_age\",\n        \"num_credit_cards\",\n        \"per_capita_income\",\n        \"retirement_age\",\n        \"total_debt\"\n    )\n    .withColumnRenamed(\"id\", \"user_id\")\n)\n\n# Dimension: Cards\ndim_cards = (\n    df_cards.select(\n        \"id\",\n        \"client_id\",\n        \"card_type\",\n        \"card_brand\",\n        \"credit_limit\",\n        \"acct_open_date\",\n        \"expires\",\n        \"num_cards_issued\",\n        \"has_chip\"\n    )\n    .withColumnRenamed(\"id\", \"card_id\")\n)\n\n# Fact: Transactions\nfact_transactions = (\n    df_transactions.select(\n        \"id\",\n        \"client_id\",\n        \"card_id\",\n        \"amount\",\n        \"date\",\n        \"merchant_id\",\n        \"merchant_city\",\n        \"merchant_state\",\n        \"use_chip\",\n        \"zip\"\n    )\n    .withColumnRenamed(\"id\", \"transaction_id\")\n    .withColumnRenamed(\"date\", \"transaction_date\")\n)\n\n# --- 3. Write to Gold Layer ---\ngold_bucket = \"s3://aws-project-1-mskish/gold-layer\"\n\ndim_users.write.mode(\"overwrite\").parquet(f\"{gold_bucket}/dim_users/\")\ndim_cards.write.mode(\"overwrite\").parquet(f\"{gold_bucket}/dim_cards/\")\nfact_transactions.write.mode(\"overwrite\").parquet(f\"{gold_bucket}/fact_transactions/\")\n\nprint(\"✅ Gold layer star schema created successfully.\")\n",
			"metadata": {
				"trusted": true,
				"tags": []
			},
			"execution_count": 5,
			"outputs": [
				{
					"name": "stdout",
					"text": "✅ Gold layer star schema created successfully.\n",
					"output_type": "stream"
				}
			]
		},
		{
			"cell_type": "code",
			"source": "",
			"metadata": {},
			"execution_count": null,
			"outputs": []
		}
	]
}