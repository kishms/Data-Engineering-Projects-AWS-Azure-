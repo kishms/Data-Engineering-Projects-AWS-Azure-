{
	"metadata": {
		"kernelspec": {
			"name": "glue_pyspark",
			"display_name": "Glue PySpark",
			"language": "python"
		},
		"language_info": {
			"name": "Python_Glue_Session",
			"mimetype": "text/x-python",
			"codemirror_mode": {
				"name": "python",
				"version": 3
			},
			"pygments_lexer": "python3",
			"file_extension": ".py"
		}
	},
	"nbformat_minor": 4,
	"nbformat": 4,
	"cells": [
		{
			"cell_type": "code",
			"source": "df_transaction = (spark\n      .read\n      .option(\"header\", \"true\")\n      .option(\"inferSchema\", \"true\")\n      .option(\"delimiter\", \"\\t\")\n      .json(\"s3://aws-project-1-mskish/bronze/transactions-topic/\"))\n",
			"metadata": {
				"trusted": true,
				"editable": true
			},
			"execution_count": 1,
			"outputs": [
				{
					"name": "stdout",
					"text": "Welcome to the Glue Interactive Sessions Kernel\nFor more information on available magic commands, please type %help in any new cell.\n\nPlease view our Getting Started page to access the most up-to-date information on the Interactive Sessions kernel: https://docs.aws.amazon.com/glue/latest/dg/interactive-sessions.html\nInstalled kernel version: 1.0.8 \nTrying to create a Glue session for the kernel.\nSession Type: glueetl\nSession ID: 0647b4c3-d5e8-4517-bb36-97a9ed3fb523\nApplying the following default arguments:\n--glue_kernel_version 1.0.8\n--enable-glue-datacatalog true\nWaiting for session 0647b4c3-d5e8-4517-bb36-97a9ed3fb523 to get into ready status...\nSession 0647b4c3-d5e8-4517-bb36-97a9ed3fb523 has been created.\n\n",
					"output_type": "stream"
				}
			]
		},
		{
			"cell_type": "code",
			"source": "df_transaction.columns",
			"metadata": {
				"trusted": true,
				"editable": true
			},
			"execution_count": 2,
			"outputs": [
				{
					"name": "stdout",
					"text": "['amount', 'card_id', 'client_id', 'date', 'errors', 'id', 'mcc', 'merchant_city', 'merchant_id', 'merchant_state', 'use_chip', 'zip']\n",
					"output_type": "stream"
				}
			]
		},
		{
			"cell_type": "code",
			"source": "df_transaction.show(50)",
			"metadata": {
				"trusted": true,
				"editable": true
			},
			"execution_count": 3,
			"outputs": [
				{
					"name": "stdout",
					"text": "+--------+-------+---------+-------------------+------+--------+----+--------------+-----------+--------------+------------------+-------+\n|  amount|card_id|client_id|               date|errors|      id| mcc| merchant_city|merchant_id|merchant_state|          use_chip|    zip|\n+--------+-------+---------+-------------------+------+--------+----+--------------+-----------+--------------+------------------+-------+\n| $263.43|   3348|      619|2012-11-23 16:03:00|      |11978328|4814|        Austin|      54850|            MN| Swipe Transaction|55912.0|\n|  $38.26|   4576|      456|2012-07-07 13:57:00|      |11363233|5411|    Cape Coral|      68135|            FL| Swipe Transaction|33909.0|\n|  $52.57|   4676|      209|2010-06-10 16:59:00|      | 8117710|5912|       El Paso|      81833|            TX| Swipe Transaction|79928.0|\n|  $40.00|   1133|     1605|2013-04-13 12:08:00|      |12606562|4829|        Amelia|      27092|            OH| Swipe Transaction|45102.0|\n|   $4.58|   5247|      144|2013-04-18 10:00:00|      |12628171|5812|   Arkadelphia|      44578|            AR| Swipe Transaction|71923.0|\n|  $67.00|   2687|     1736|2012-12-13 15:40:00|      |12066623|5499|      Brooklyn|      59935|            NY| Swipe Transaction|11211.0|\n|  $20.00|   2927|      285|2017-12-21 18:44:00|      |20556837|4829|      San Jose|      27092|            CA| Swipe Transaction|95111.0|\n|  $66.00|   5488|     1078|2015-10-17 08:58:00|      |16817235|5499|         Maroa|      59935|            IL| Swipe Transaction|61756.0|\n|$-268.00|   4639|        0|2017-12-11 21:33:00|      |20509797|3684|        Somers|       7777|            CT|  Chip Transaction| 6071.0|\n|  $38.04|   5660|     1797|2016-02-14 22:16:00|      |17382705|4784|        ONLINE|      15143|              |Online Transaction|       |\n|   $1.30|   4788|      329|2017-07-28 13:24:00|      |19866618|5499|      Oak View|      14528|            CA|  Chip Transaction|93022.0|\n|   $2.36|   3498|     1063|2010-12-28 09:31:00|      | 8950940|5541|      Rochelle|      96049|            IL| Swipe Transaction|61068.0|\n| $692.57|   6063|     1988|2019-08-06 19:02:00|      |23356240|6300|         Miami|      45524|            FL|  Chip Transaction|33156.0|\n|  $62.70|   4536|      814|2016-11-21 10:17:00|      |18690675|5912|      Palm Bay|      42928|            FL|  Chip Transaction|32905.0|\n|   $4.38|   4323|     1097|2013-01-21 07:07:00|      |12237548|5411|     Ludington|       5270|            MI| Swipe Transaction|49431.0|\n|  $63.24|   6125|      979|2019-08-17 21:45:00|      |23408777|5912|        Pomona|      82981|            CA|  Chip Transaction|91768.0|\n|  $45.80|   5817|     1121|2017-08-17 19:40:00|      |19962177|7349|      Florence|      73370|            SC|  Chip Transaction|29501.0|\n| $-74.00|    169|      291|2014-05-24 21:14:00|      |14455719|5499|        Dalton|      43293|            GA| Swipe Transaction|30720.0|\n|  $50.03|   2952|      141|2019-03-30 15:18:00|      |22745540|7230|      Franklin|      61001|            TX|  Chip Transaction|77856.0|\n|  $39.96|   3988|      983|2018-04-13 14:07:00|      |21088227|5094|        Apollo|      61738|            PA|  Chip Transaction|15613.0|\n|  $87.00|   3051|      782|2014-10-05 14:26:00|      |15069143|5541|      Defiance|      22204|            OH| Swipe Transaction|43512.0|\n|  $94.84|   3257|      870|2019-01-07 08:13:00|      |22356047|5541|      Accokeek|      28395|            MD| Swipe Transaction|20607.0|\n| $-52.00|   1367|      856|2018-01-22 11:34:00|      |20706065|5541|      Bethesda|      61195|            MD|  Chip Transaction|20814.0|\n|  $80.00|   1188|     1449|2017-01-24 09:18:00|      |18990753|5499| Warner Robins|      59935|            GA|  Chip Transaction|31093.0|\n|  $61.70|   2306|      199|2016-09-15 07:25:00|      |18376232|7538|         Allen|      19071|            TX|  Chip Transaction|75002.0|\n|   $0.48|   4306|     1697|2019-08-10 00:27:00|      |23371233|5411|       Clinton|      14318|            MI| Swipe Transaction|49236.0|\n|  $20.59|   3798|     1962|2010-02-10 07:11:00|      | 7632986|5411|   Willowbrook|      31619|            IL| Swipe Transaction|60527.0|\n| $-72.00|   3297|     1846|2010-02-28 13:39:00|      | 7706192|5541|   West Plains|      50867|            MO| Swipe Transaction|65775.0|\n|  $55.00|   3880|     1752|2011-09-27 15:48:00|      |10122401|5541|     Abbeville|      22204|            LA| Swipe Transaction|70510.0|\n| $120.00|   4531|      847|2013-07-09 06:28:00|      |12999432|4829|      Billings|      27092|            OK| Swipe Transaction|74630.0|\n|  $39.90|   4107|     1391|2018-04-11 10:22:00|      |21077142|4784|        ONLINE|      39021|              |Online Transaction|       |\n|   $1.86|   2681|      177|2018-12-26 08:22:00|      |22299201|5310|       Memphis|      34702|            TN|  Chip Transaction|38107.0|\n| $264.23|   4929|     1432|2017-02-08 04:29:00|      |19060173|3730|       Waianae|      57133|            HI| Swipe Transaction|96792.0|\n|  $65.93|   2861|      205|2010-03-08 22:08:00|      | 7739719|4814|        ONLINE|      73186|              |Online Transaction|       |\n| $107.70|   5030|     1217|2014-11-26 10:07:00|      |15306363|4111|         Ogden|      86722|            UT| Swipe Transaction|84408.0|\n|  $26.64|   3472|     1050|2015-05-17 16:47:00|      |16104326|7538|   Rocky Mount|      32175|            NC|  Chip Transaction|27803.0|\n|  $32.45|   4156|      831|2010-09-25 09:41:00|      | 8557645|7801|        ONLINE|      50292|              |Online Transaction|       |\n|  $57.68|   2628|      951|2013-06-26 15:38:00|      |12941842|4814|       Compton|      30286|            CA| Swipe Transaction|90222.0|\n|  $10.26|   5574|      674|2013-02-23 12:06:00|      |12385915|5541|     San Diego|      61195|            CA| Swipe Transaction|92105.0|\n|  $45.01|   1382|     1118|2018-03-21 02:04:00|      |20976334|5813|       Atlanta|      58007|            GA| Swipe Transaction|30358.0|\n|  $26.22|   3288|     1910|2016-06-25 15:05:00|      |17993663|4784|        ONLINE|      50404|              |Online Transaction|       |\n| $128.22|   3869|     1127|2012-09-20 11:54:00|      |11694007|4900|        Naples|      71548|            FL| Swipe Transaction|34104.0|\n|   $7.77|   4162|     1242|2013-12-26 06:42:00|      |13772058|5541|       Chicago|      22204|            IL| Swipe Transaction|60620.0|\n| $103.97|   3936|      184|2013-06-07 22:26:00|      |12856928|5300|      Edgerton|      10905|            WI| Swipe Transaction|53534.0|\n|  $70.05|   2478|     1266|2013-07-04 15:17:00|      |12978571|5499|      Aberdeen|      59935|            MD| Swipe Transaction|21001.0|\n|   $5.64|   3880|     1752|2019-06-25 08:38:00|      |23153668|5411|     Abbeville|      32033|            LA|  Chip Transaction|70510.0|\n|  $94.00|   3733|      470|2016-03-05 09:07:00|      |17468133|5541|        Arkoma|      22204|            OK| Swipe Transaction|74901.0|\n| $101.80|   5787|     1248|2013-08-18 21:37:00|      |13184901|8021|    Janesville|       1426|            WI| Swipe Transaction|53546.0|\n|  $24.62|   3863|      702|2011-01-23 07:41:00|      | 9060098|5942|      Melville|      20519|            NY| Swipe Transaction|11747.0|\n|  $27.75|   4498|     1245|2014-05-26 21:19:00|      |14465207|5970|Virginia Beach|      11468|            VA| Swipe Transaction|23454.0|\n+--------+-------+---------+-------------------+------+--------+----+--------------+-----------+--------------+------------------+-------+\nonly showing top 50 rows\n",
					"output_type": "stream"
				}
			]
		},
		{
			"cell_type": "code",
			"source": "from pyspark.sql import functions as F\nfrom pyspark.sql.types import FloatType, IntegerType\n\n# 1. Clean 'amount' column\ndf_transaction = df_transaction.withColumn(\n    'amount',\n    F.regexp_replace('amount', '[$|]', '').cast(FloatType()))\n",
			"metadata": {
				"trusted": true,
				"editable": true
			},
			"execution_count": 4,
			"outputs": [
				{
					"name": "stdout",
					"text": "\n",
					"output_type": "stream"
				}
			]
		},
		{
			"cell_type": "code",
			"source": "# 2. Convert 'amount' to float\ndf_transaction = df_transaction.withColumn('amount',F.col('amount').cast(FloatType()))",
			"metadata": {
				"trusted": true,
				"editable": true
			},
			"execution_count": 5,
			"outputs": [
				{
					"name": "stdout",
					"text": "\n",
					"output_type": "stream"
				}
			]
		},
		{
			"cell_type": "code",
			"source": "# 3. Convert 'zip' to integer, handle empty strings as nulls\ndf_transaction = df_transaction.withColumn('zip',F.when(F.col('zip') == '', None).otherwise(F.col('zip').cast(IntegerType())))",
			"metadata": {
				"trusted": true,
				"editable": true
			},
			"execution_count": 6,
			"outputs": [
				{
					"name": "stdout",
					"text": "\n",
					"output_type": "stream"
				}
			]
		},
		{
			"cell_type": "code",
			"source": "# 4. Optional: Trim whitespace from string columns\nstring_cols = ['card_id','client_id','errors','use_chip','merchant_city','merchant_state','merchant_id','mcc']\nfor col in string_cols:\n    df_transaction = df_transaction.withColumn(col, F.trim(F.col(col)))",
			"metadata": {
				"trusted": true,
				"editable": true
			},
			"execution_count": 7,
			"outputs": [
				{
					"name": "stdout",
					"text": "\n",
					"output_type": "stream"
				}
			]
		},
		{
			"cell_type": "code",
			"source": "# 5. Clean 'amount' column\ndf_transaction = df_transaction.withColumn('amount',F.regexp_replace('amount', '[$|]', ''))",
			"metadata": {
				"trusted": true,
				"editable": true
			},
			"execution_count": 8,
			"outputs": [
				{
					"name": "stdout",
					"text": "\n",
					"output_type": "stream"
				}
			]
		},
		{
			"cell_type": "code",
			"source": "# 6. Convert 'amount' to float\ndf_transaction = df_transaction.withColumn('amount',F.col('amount').cast(FloatType()))",
			"metadata": {
				"trusted": true,
				"editable": true
			},
			"execution_count": 9,
			"outputs": [
				{
					"name": "stdout",
					"text": "\n",
					"output_type": "stream"
				}
			]
		},
		{
			"cell_type": "code",
			"source": "# 7. Convert 'zip' to integer\ndf_transaction = df_transaction.withColumn('zip',F.when(F.col('zip') == '', None).otherwise(F.col('zip').cast(IntegerType())))",
			"metadata": {
				"trusted": true,
				"editable": true
			},
			"execution_count": 10,
			"outputs": [
				{
					"name": "stdout",
					"text": "\n",
					"output_type": "stream"
				}
			]
		},
		{
			"cell_type": "code",
			"source": "# 8. Handle null/empty values\ndf_transaction = df_transaction.withColumn('merchant_state',F.when((F.col('merchant_state').isNull()) | (F.col('merchant_state') == ''), 'NA').otherwise(F.col('merchant_state')))",
			"metadata": {
				"trusted": true,
				"editable": true
			},
			"execution_count": 11,
			"outputs": [
				{
					"name": "stdout",
					"text": "\n",
					"output_type": "stream"
				}
			]
		},
		{
			"cell_type": "code",
			"source": "df_transaction = df_transaction.withColumn('client_id',F.when(F.col('client_id') == 0, 'YTD').otherwise(F.col('client_id')))",
			"metadata": {
				"trusted": true,
				"editable": true
			},
			"execution_count": 12,
			"outputs": [
				{
					"name": "stdout",
					"text": "\n",
					"output_type": "stream"
				}
			]
		},
		{
			"cell_type": "code",
			"source": "df_transaction = df_transaction.withColumn('zip',F.when(F.col('zip').isNull(), 0).otherwise(F.col('zip')))",
			"metadata": {
				"trusted": true,
				"tags": []
			},
			"execution_count": 13,
			"outputs": [
				{
					"name": "stdout",
					"text": "\n",
					"output_type": "stream"
				}
			]
		},
		{
			"cell_type": "code",
			"source": "df_transaction = df_transaction.withColumn('errors',F.when((F.col('errors').isNull()) | (F.col('errors') == ''), 'N').otherwise(F.col('errors')))",
			"metadata": {
				"trusted": true,
				"tags": []
			},
			"execution_count": 14,
			"outputs": [
				{
					"name": "stdout",
					"text": "\n",
					"output_type": "stream"
				}
			]
		},
		{
			"cell_type": "code",
			"source": "df_transaction.show()\n",
			"metadata": {
				"trusted": true,
				"tags": []
			},
			"execution_count": 15,
			"outputs": [
				{
					"name": "stdout",
					"text": "+------+-------+---------+-------------------+------+--------+----+-------------+-----------+--------------+------------------+-----+\n|amount|card_id|client_id|               date|errors|      id| mcc|merchant_city|merchant_id|merchant_state|          use_chip|  zip|\n+------+-------+---------+-------------------+------+--------+----+-------------+-----------+--------------+------------------+-----+\n|263.43|   3348|      619|2012-11-23 16:03:00|     N|11978328|4814|       Austin|      54850|            MN| Swipe Transaction|55912|\n| 38.26|   4576|      456|2012-07-07 13:57:00|     N|11363233|5411|   Cape Coral|      68135|            FL| Swipe Transaction|33909|\n| 52.57|   4676|      209|2010-06-10 16:59:00|     N| 8117710|5912|      El Paso|      81833|            TX| Swipe Transaction|79928|\n|  40.0|   1133|     1605|2013-04-13 12:08:00|     N|12606562|4829|       Amelia|      27092|            OH| Swipe Transaction|45102|\n|  4.58|   5247|      144|2013-04-18 10:00:00|     N|12628171|5812|  Arkadelphia|      44578|            AR| Swipe Transaction|71923|\n|  67.0|   2687|     1736|2012-12-13 15:40:00|     N|12066623|5499|     Brooklyn|      59935|            NY| Swipe Transaction|11211|\n|  20.0|   2927|      285|2017-12-21 18:44:00|     N|20556837|4829|     San Jose|      27092|            CA| Swipe Transaction|95111|\n|  66.0|   5488|     1078|2015-10-17 08:58:00|     N|16817235|5499|        Maroa|      59935|            IL| Swipe Transaction|61756|\n|-268.0|   4639|      YTD|2017-12-11 21:33:00|     N|20509797|3684|       Somers|       7777|            CT|  Chip Transaction| 6071|\n| 38.04|   5660|     1797|2016-02-14 22:16:00|     N|17382705|4784|       ONLINE|      15143|            NA|Online Transaction|    0|\n|   1.3|   4788|      329|2017-07-28 13:24:00|     N|19866618|5499|     Oak View|      14528|            CA|  Chip Transaction|93022|\n|  2.36|   3498|     1063|2010-12-28 09:31:00|     N| 8950940|5541|     Rochelle|      96049|            IL| Swipe Transaction|61068|\n|692.57|   6063|     1988|2019-08-06 19:02:00|     N|23356240|6300|        Miami|      45524|            FL|  Chip Transaction|33156|\n|  62.7|   4536|      814|2016-11-21 10:17:00|     N|18690675|5912|     Palm Bay|      42928|            FL|  Chip Transaction|32905|\n|  4.38|   4323|     1097|2013-01-21 07:07:00|     N|12237548|5411|    Ludington|       5270|            MI| Swipe Transaction|49431|\n| 63.24|   6125|      979|2019-08-17 21:45:00|     N|23408777|5912|       Pomona|      82981|            CA|  Chip Transaction|91768|\n|  45.8|   5817|     1121|2017-08-17 19:40:00|     N|19962177|7349|     Florence|      73370|            SC|  Chip Transaction|29501|\n| -74.0|    169|      291|2014-05-24 21:14:00|     N|14455719|5499|       Dalton|      43293|            GA| Swipe Transaction|30720|\n| 50.03|   2952|      141|2019-03-30 15:18:00|     N|22745540|7230|     Franklin|      61001|            TX|  Chip Transaction|77856|\n| 39.96|   3988|      983|2018-04-13 14:07:00|     N|21088227|5094|       Apollo|      61738|            PA|  Chip Transaction|15613|\n+------+-------+---------+-------------------+------+--------+----+-------------+-----------+--------------+------------------+-----+\nonly showing top 20 rows\n",
					"output_type": "stream"
				}
			]
		},
		{
			"cell_type": "code",
			"source": "df_cards = (spark\n      .read\n      .option(\"header\", \"true\")\n      .option(\"inferSchema\", \"true\")\n      .option(\"delimiter\", \"\\t\")\n      .json(\"s3://aws-project-1-mskish/bronze/cards-topic/\"))",
			"metadata": {
				"trusted": true,
				"tags": []
			},
			"execution_count": 16,
			"outputs": [
				{
					"name": "stdout",
					"text": "\n",
					"output_type": "stream"
				}
			]
		},
		{
			"cell_type": "code",
			"source": "df_cards.show()",
			"metadata": {
				"trusted": true,
				"tags": []
			},
			"execution_count": 17,
			"outputs": [
				{
					"name": "stdout",
					"text": "+--------------+----------+----------------+----------------+---------------+---------+------------+---+-------+--------+----+----------------+---------------------+\n|acct_open_date|card_brand|     card_number|card_on_dark_web|      card_type|client_id|credit_limit|cvv|expires|has_chip|  id|num_cards_issued|year_pin_last_changed|\n+--------------+----------+----------------+----------------+---------------+---------+------------+---+-------+--------+----+----------------+---------------------+\n|       09/2002|      Visa|4344676511950444|              No|          Debit|      825|      $24295|623|12/2022|     YES|4524|               2|                 2008|\n|       04/2014|      Visa|4956965974959986|              No|          Debit|      825|      $21968|393|12/2020|     YES|2731|               2|                 2014|\n|       07/2003|      Visa|4582313478255491|              No|          Debit|      825|      $46414|719|02/2024|     YES|3701|               2|                 2004|\n|       01/2003|      Visa|4879494103069057|              No|         Credit|      825|      $12400|693|08/2024|      NO|  42|               1|                 2012|\n|       09/2008|Mastercard|5722874738736011|              No|Debit (Prepaid)|      825|         $28| 75|03/2009|     YES|4659|               1|                 2009|\n|       09/2003|      Visa|4404898874682993|              No|         Credit|     1746|      $27500|736|09/2003|     YES|4537|               1|                 2012|\n|       02/2011|      Visa|4001482973848631|              No|          Debit|     1746|      $28508|972|07/2022|     YES|1278|               2|                 2011|\n|       07/2003|Mastercard|5627220683410948|              No|          Debit|     1746|       $9022| 48|06/2022|     YES|3687|               2|                 2015|\n|       06/2010|Mastercard|5711382187309326|              No|Debit (Prepaid)|     1746|         $54|722|11/2020|     YES|3465|               2|                 2015|\n|       07/2006|Mastercard|5766121508358701|              No|Debit (Prepaid)|     1746|         $99|908|02/2023|     YES|3754|               1|                 2012|\n|       10/2009|Mastercard|5495199163052054|              No|          Debit|     1718|      $31599|677|03/2022|     YES|5144|               2|                 2009|\n|       03/2002|Mastercard|5804499644308599|              No|          Debit|     1718|      $27480|258|07/2023|      NO|2029|               2|                 2008|\n|       03/2019|Mastercard|5766352389579834|              No|          Debit|     1718|      $26743|992|02/2020|     YES|2379|               1|                 2019|\n|       04/2014|      Visa|4242015583697294|              No|          Debit|     1718|      $31463|928|06/2020|     YES|2732|               1|                 2014|\n|       09/2009|Mastercard|5191030913182493|              No|          Debit|     1718|      $16055|360|06/2024|     YES|4706|               1|                 2009|\n|       01/2011|      Visa|4017261190134817|              No|         Credit|      708|      $98100|877|05/2015|     YES| 281|               2|                 2011|\n|       02/2007|Mastercard|5581970288727991|              No|Debit (Prepaid)|      708|         $62|448|06/2020|     YES|1106|               1|                 2007|\n|       11/2010|      Visa|4032240655674503|              No|          Debit|      708|     $132439| 53|06/2022|     YES|5621|               1|                 2011|\n|       10/2009|      Visa|4935974646456357|              No|          Debit|      708|     $125723|649|06/2020|     YES|5165|               1|                 2010|\n|       12/1999|Mastercard|5905027855347659|              No|          Debit|     1164|      $34900|886|01/2022|     YES|5757|               1|                 2012|\n+--------------+----------+----------------+----------------+---------------+---------+------------+---+-------+--------+----+----------------+---------------------+\nonly showing top 20 rows\n",
					"output_type": "stream"
				}
			]
		},
		{
			"cell_type": "code",
			"source": "from pyspark.sql.functions import regexp_replace, col\n\ndf_cards = df_cards.withColumn(\"credit_limit\",regexp_replace(col(\"credit_limit\"), \"[$]\", \"\").cast(\"double\"))\n",
			"metadata": {
				"trusted": true,
				"tags": []
			},
			"execution_count": 18,
			"outputs": [
				{
					"name": "stdout",
					"text": "\n",
					"output_type": "stream"
				}
			]
		},
		{
			"cell_type": "code",
			"source": "df_cards = df_cards.fillna({\"client_id\": 0})",
			"metadata": {
				"trusted": true,
				"tags": []
			},
			"execution_count": 19,
			"outputs": [
				{
					"name": "stdout",
					"text": "\n",
					"output_type": "stream"
				}
			]
		},
		{
			"cell_type": "code",
			"source": "df_cards = df_cards.fillna({\"card_type\": \"NA\", \"card_brand\": \"NA\"})",
			"metadata": {
				"trusted": true,
				"tags": []
			},
			"execution_count": 20,
			"outputs": [
				{
					"name": "stdout",
					"text": "\n",
					"output_type": "stream"
				}
			]
		},
		{
			"cell_type": "code",
			"source": "df_cards = df_cards.fillna({\"has_chip\": \"NO\"})",
			"metadata": {
				"trusted": true,
				"tags": []
			},
			"execution_count": 21,
			"outputs": [
				{
					"name": "stdout",
					"text": "\n",
					"output_type": "stream"
				}
			]
		},
		{
			"cell_type": "code",
			"source": "from pyspark.sql.functions import to_date, unix_timestamp\ndf_cards = df_cards.withColumn(\"acct_open_date\",to_date(unix_timestamp(\"acct_open_date\", \"MM/yyyy\").cast(\"timestamp\")))",
			"metadata": {
				"trusted": true,
				"tags": []
			},
			"execution_count": 22,
			"outputs": [
				{
					"name": "stdout",
					"text": "\n",
					"output_type": "stream"
				}
			]
		},
		{
			"cell_type": "code",
			"source": "df_cards = df_cards.withColumn(\"expires\",to_date(unix_timestamp(\"expires\", \"MM/yyyy\").cast(\"timestamp\")))",
			"metadata": {
				"trusted": true,
				"tags": []
			},
			"execution_count": 23,
			"outputs": [
				{
					"name": "stdout",
					"text": "\n",
					"output_type": "stream"
				}
			]
		},
		{
			"cell_type": "code",
			"source": "df_cards = df_cards.fillna({\"cvv\": 0})",
			"metadata": {
				"trusted": true,
				"tags": []
			},
			"execution_count": 24,
			"outputs": [
				{
					"name": "stdout",
					"text": "\n",
					"output_type": "stream"
				}
			]
		},
		{
			"cell_type": "code",
			"source": "df_cards = df_cards.fillna({\"num_cards_issued\": 1, \"year_pin_last_changed\": 0})",
			"metadata": {
				"trusted": true,
				"tags": []
			},
			"execution_count": 25,
			"outputs": [
				{
					"name": "stdout",
					"text": "\n",
					"output_type": "stream"
				}
			]
		},
		{
			"cell_type": "code",
			"source": "df_cards = df_cards.fillna({\"card_on_dark_web\": \"No\"})",
			"metadata": {
				"trusted": true,
				"tags": []
			},
			"execution_count": 26,
			"outputs": [
				{
					"name": "stdout",
					"text": "\n",
					"output_type": "stream"
				}
			]
		},
		{
			"cell_type": "code",
			"source": "df_cards.show()",
			"metadata": {
				"trusted": true,
				"tags": []
			},
			"execution_count": 27,
			"outputs": [
				{
					"name": "stdout",
					"text": "+--------------+----------+----------------+----------------+---------------+---------+------------+---+----------+--------+----+----------------+---------------------+\n|acct_open_date|card_brand|     card_number|card_on_dark_web|      card_type|client_id|credit_limit|cvv|   expires|has_chip|  id|num_cards_issued|year_pin_last_changed|\n+--------------+----------+----------------+----------------+---------------+---------+------------+---+----------+--------+----+----------------+---------------------+\n|    2002-09-01|      Visa|4344676511950444|              No|          Debit|      825|     24295.0|623|2022-12-01|     YES|4524|               2|                 2008|\n|    2014-04-01|      Visa|4956965974959986|              No|          Debit|      825|     21968.0|393|2020-12-01|     YES|2731|               2|                 2014|\n|    2003-07-01|      Visa|4582313478255491|              No|          Debit|      825|     46414.0|719|2024-02-01|     YES|3701|               2|                 2004|\n|    2003-01-01|      Visa|4879494103069057|              No|         Credit|      825|     12400.0|693|2024-08-01|      NO|  42|               1|                 2012|\n|    2008-09-01|Mastercard|5722874738736011|              No|Debit (Prepaid)|      825|        28.0| 75|2009-03-01|     YES|4659|               1|                 2009|\n|    2003-09-01|      Visa|4404898874682993|              No|         Credit|     1746|     27500.0|736|2003-09-01|     YES|4537|               1|                 2012|\n|    2011-02-01|      Visa|4001482973848631|              No|          Debit|     1746|     28508.0|972|2022-07-01|     YES|1278|               2|                 2011|\n|    2003-07-01|Mastercard|5627220683410948|              No|          Debit|     1746|      9022.0| 48|2022-06-01|     YES|3687|               2|                 2015|\n|    2010-06-01|Mastercard|5711382187309326|              No|Debit (Prepaid)|     1746|        54.0|722|2020-11-01|     YES|3465|               2|                 2015|\n|    2006-07-01|Mastercard|5766121508358701|              No|Debit (Prepaid)|     1746|        99.0|908|2023-02-01|     YES|3754|               1|                 2012|\n|    2009-10-01|Mastercard|5495199163052054|              No|          Debit|     1718|     31599.0|677|2022-03-01|     YES|5144|               2|                 2009|\n|    2002-03-01|Mastercard|5804499644308599|              No|          Debit|     1718|     27480.0|258|2023-07-01|      NO|2029|               2|                 2008|\n|    2019-03-01|Mastercard|5766352389579834|              No|          Debit|     1718|     26743.0|992|2020-02-01|     YES|2379|               1|                 2019|\n|    2014-04-01|      Visa|4242015583697294|              No|          Debit|     1718|     31463.0|928|2020-06-01|     YES|2732|               1|                 2014|\n|    2009-09-01|Mastercard|5191030913182493|              No|          Debit|     1718|     16055.0|360|2024-06-01|     YES|4706|               1|                 2009|\n|    2011-01-01|      Visa|4017261190134817|              No|         Credit|      708|     98100.0|877|2015-05-01|     YES| 281|               2|                 2011|\n|    2007-02-01|Mastercard|5581970288727991|              No|Debit (Prepaid)|      708|        62.0|448|2020-06-01|     YES|1106|               1|                 2007|\n|    2010-11-01|      Visa|4032240655674503|              No|          Debit|      708|    132439.0| 53|2022-06-01|     YES|5621|               1|                 2011|\n|    2009-10-01|      Visa|4935974646456357|              No|          Debit|      708|    125723.0|649|2020-06-01|     YES|5165|               1|                 2010|\n|    1999-12-01|Mastercard|5905027855347659|              No|          Debit|     1164|     34900.0|886|2022-01-01|     YES|5757|               1|                 2012|\n+--------------+----------+----------------+----------------+---------------+---------+------------+---+----------+--------+----+----------------+---------------------+\nonly showing top 20 rows\n",
					"output_type": "stream"
				}
			]
		},
		{
			"cell_type": "code",
			"source": "df_users = (spark\n      .read\n      .option(\"header\", \"true\")\n      .option(\"inferSchema\", \"true\")\n      .option(\"delimiter\", \"\\t\")\n      .json(\"s3://aws-project-1-mskish/bronze/users-topic/\"))",
			"metadata": {
				"trusted": true,
				"tags": []
			},
			"execution_count": 28,
			"outputs": [
				{
					"name": "stdout",
					"text": "\n",
					"output_type": "stream"
				}
			]
		},
		{
			"cell_type": "code",
			"source": "df_users.show()",
			"metadata": {
				"trusted": true,
				"tags": []
			},
			"execution_count": 29,
			"outputs": [
				{
					"name": "stdout",
					"text": "+--------------------+-----------+----------+------------+-----------+------+----+--------+---------+----------------+-----------------+--------------+----------+-------------+\n|             address|birth_month|birth_year|credit_score|current_age|gender|  id|latitude|longitude|num_credit_cards|per_capita_income|retirement_age|total_debt|yearly_income|\n+--------------------+-----------+----------+------------+-----------+------+----+--------+---------+----------------+-----------------+--------------+----------+-------------+\n|       462 Rose Lane|         11|      1966|         787|         53|Female| 825|   34.15|  -117.76|               5|           $29278|            66|   $127613|       $59696|\n|3606 Federal Boul...|         12|      1966|         701|         53|Female|1746|   40.76|   -73.74|               5|           $37891|            68|   $191349|       $77254|\n|     766 Third Drive|         11|      1938|         698|         81|Female|1718|   34.02|  -117.89|               5|           $22681|            67|      $196|       $33483|\n|    3 Madison Street|          1|      1957|         722|         63|Female| 708|   40.71|   -73.99|               4|          $163145|            63|   $202328|      $249925|\n|9620 Valley Strea...|          9|      1976|         675|         43|  Male|1164|   37.76|  -122.44|               1|           $53797|            70|   $183855|      $109687|\n|       58 Birch Lane|         10|      1977|         704|         42|  Male|  68|   41.55|    -90.6|               3|           $20599|            70|        $0|       $41997|\n|   5695 Fifth Street|         12|      1983|         672|         36|Female|1075|   38.22|   -85.74|               3|           $25258|            67|   $102286|       $51500|\n|   1941 Ninth Street|         12|      1993|         728|         26|  Male|1711|   45.51|  -122.64|               1|           $26790|            67|   $114711|       $54623|\n|    11 Spruce Avenue|          7|      1938|         755|         81|Female|1116|   40.32|   -75.32|               5|           $26273|            66|     $2895|       $42509|\n|    887 Grant Street|          1|      1986|         810|         34|Female|1752|   29.97|   -92.12|               1|           $18730|            60|    $81262|       $38190|\n|      888 Fifth Lane|          6|      1992|         761|         27|  Male| 192|   38.65|  -121.25|               2|           $27548|            66|    $15224|       $56164|\n|8677 Littlewood Lane|          9|      1990|         629|         29|Female| 640|   40.42|  -104.74|               1|           $22427|            63|    $94016|       $45727|\n|829 Fourth Boulevard|          1|      2002|         776|         18|Female|1679|   41.76|   -71.48|               1|           $33914|            67|    $89214|       $69149|\n|74786 Jefferson D...|         10|      1985|         712|         34|  Male|1094|   44.75|    -85.6|               3|           $20325|            62|    $78833|       $41442|\n|     781 East Street|          5|      1971|         599|         48|Female|1590|   29.45|    -98.5|               1|           $10059|            62|    $32509|       $20513|\n| 40 Washington Drive|          4|      1978|         723|         41|Female|1660|   36.73|  -102.51|               6|           $11342|            68|     $5079|       $23123|\n| 3994 Hillside Drive|          1|      1966|         719|         54|  Male|1747|   32.15|   -94.79|               6|           $17898|            71|    $38333|       $36497|\n|    172 Birch Street|          8|      1943|         660|         76|Female| 153|   35.29|  -111.32|               4|           $21950|            71|    $16803|       $27484|\n|8145 Spruce Boule...|         11|      1997|         683|         22|  Male| 429|   35.19|   -80.83|               3|           $26481|            68|    $89056|       $53995|\n|      153 Tenth Lane|         10|      1953|         661|         66|  Male| 511|   32.21|  -110.88|               5|           $17460|            68|    $55369|       $35602|\n+--------------------+-----------+----------+------------+-----------+------+----+--------+---------+----------------+-----------------+--------------+----------+-------------+\nonly showing top 20 rows\n",
					"output_type": "stream"
				}
			]
		},
		{
			"cell_type": "code",
			"source": "money_cols = [\"yearly_income\", \"total_debt\", \"per_capita_income\"]\n\nfor c in money_cols:\n    df_users = df_users.withColumn(c, regexp_replace(col(c), \"[$]\", \"\").cast(\"float\"))",
			"metadata": {
				"trusted": true,
				"tags": []
			},
			"execution_count": 30,
			"outputs": [
				{
					"name": "stdout",
					"text": "\n",
					"output_type": "stream"
				}
			]
		},
		{
			"cell_type": "code",
			"source": "df_users = df_users.fillna({\n    \"birth_month\": 0,\n    \"birth_year\": 0,\n    \"credit_score\": 0,\n    \"num_credit_cards\": 0})",
			"metadata": {
				"trusted": true,
				"tags": []
			},
			"execution_count": 31,
			"outputs": [
				{
					"name": "stdout",
					"text": "\n",
					"output_type": "stream"
				}
			]
		},
		{
			"cell_type": "code",
			"source": "from pyspark.sql.functions import col, regexp_replace, when\ndf_users = df_users.withColumn(\"errors\", when(col(\"yearly_income\").isNull(), \"Y\").otherwise(\"N\"))",
			"metadata": {
				"trusted": true,
				"tags": []
			},
			"execution_count": 32,
			"outputs": [
				{
					"name": "stdout",
					"text": "\n",
					"output_type": "stream"
				}
			]
		},
		{
			"cell_type": "code",
			"source": "df_users.show()",
			"metadata": {
				"trusted": true,
				"tags": []
			},
			"execution_count": 33,
			"outputs": [
				{
					"name": "stdout",
					"text": "+--------------------+-----------+----------+------------+-----------+------+----+--------+---------+----------------+-----------------+--------------+----------+-------------+------+\n|             address|birth_month|birth_year|credit_score|current_age|gender|  id|latitude|longitude|num_credit_cards|per_capita_income|retirement_age|total_debt|yearly_income|errors|\n+--------------------+-----------+----------+------------+-----------+------+----+--------+---------+----------------+-----------------+--------------+----------+-------------+------+\n|       462 Rose Lane|         11|      1966|         787|         53|Female| 825|   34.15|  -117.76|               5|          29278.0|            66|  127613.0|      59696.0|     N|\n|3606 Federal Boul...|         12|      1966|         701|         53|Female|1746|   40.76|   -73.74|               5|          37891.0|            68|  191349.0|      77254.0|     N|\n|     766 Third Drive|         11|      1938|         698|         81|Female|1718|   34.02|  -117.89|               5|          22681.0|            67|     196.0|      33483.0|     N|\n|    3 Madison Street|          1|      1957|         722|         63|Female| 708|   40.71|   -73.99|               4|         163145.0|            63|  202328.0|     249925.0|     N|\n|9620 Valley Strea...|          9|      1976|         675|         43|  Male|1164|   37.76|  -122.44|               1|          53797.0|            70|  183855.0|     109687.0|     N|\n|       58 Birch Lane|         10|      1977|         704|         42|  Male|  68|   41.55|    -90.6|               3|          20599.0|            70|       0.0|      41997.0|     N|\n|   5695 Fifth Street|         12|      1983|         672|         36|Female|1075|   38.22|   -85.74|               3|          25258.0|            67|  102286.0|      51500.0|     N|\n|   1941 Ninth Street|         12|      1993|         728|         26|  Male|1711|   45.51|  -122.64|               1|          26790.0|            67|  114711.0|      54623.0|     N|\n|    11 Spruce Avenue|          7|      1938|         755|         81|Female|1116|   40.32|   -75.32|               5|          26273.0|            66|    2895.0|      42509.0|     N|\n|    887 Grant Street|          1|      1986|         810|         34|Female|1752|   29.97|   -92.12|               1|          18730.0|            60|   81262.0|      38190.0|     N|\n|      888 Fifth Lane|          6|      1992|         761|         27|  Male| 192|   38.65|  -121.25|               2|          27548.0|            66|   15224.0|      56164.0|     N|\n|8677 Littlewood Lane|          9|      1990|         629|         29|Female| 640|   40.42|  -104.74|               1|          22427.0|            63|   94016.0|      45727.0|     N|\n|829 Fourth Boulevard|          1|      2002|         776|         18|Female|1679|   41.76|   -71.48|               1|          33914.0|            67|   89214.0|      69149.0|     N|\n|74786 Jefferson D...|         10|      1985|         712|         34|  Male|1094|   44.75|    -85.6|               3|          20325.0|            62|   78833.0|      41442.0|     N|\n|     781 East Street|          5|      1971|         599|         48|Female|1590|   29.45|    -98.5|               1|          10059.0|            62|   32509.0|      20513.0|     N|\n| 40 Washington Drive|          4|      1978|         723|         41|Female|1660|   36.73|  -102.51|               6|          11342.0|            68|    5079.0|      23123.0|     N|\n| 3994 Hillside Drive|          1|      1966|         719|         54|  Male|1747|   32.15|   -94.79|               6|          17898.0|            71|   38333.0|      36497.0|     N|\n|    172 Birch Street|          8|      1943|         660|         76|Female| 153|   35.29|  -111.32|               4|          21950.0|            71|   16803.0|      27484.0|     N|\n|8145 Spruce Boule...|         11|      1997|         683|         22|  Male| 429|   35.19|   -80.83|               3|          26481.0|            68|   89056.0|      53995.0|     N|\n|      153 Tenth Lane|         10|      1953|         661|         66|  Male| 511|   32.21|  -110.88|               5|          17460.0|            68|   55369.0|      35602.0|     N|\n+--------------------+-----------+----------+------------+-----------+------+----+--------+---------+----------------+-----------------+--------------+----------+-------------+------+\nonly showing top 20 rows\n",
					"output_type": "stream"
				}
			]
		},
		{
			"cell_type": "code",
			"source": "import boto3\nfrom awsglue.context import GlueContext\nfrom pyspark.context import SparkContext\n\n# ----------------------------\n# Initialize Spark & Glue\n# ----------------------------\nsc = SparkContext.getOrCreate()   # Use getOrCreate to avoid multiple SparkContext errors\nglueContext = GlueContext(sc)\nspark = glueContext.spark_session\n\n# ----------------------------\n# S3 paths\n# ----------------------------\nbronze_bucket = \"s3://aws-project-1-mskish/bronze\"\nsilver_bucket = \"s3://aws-project-1-mskish/silver\"\n\n# Paths for parquet write\nsilver_transactions_path = f\"{silver_bucket}/transactions-topic/\"\nsilver_users_path = f\"{silver_bucket}/users-topic/\"\nsilver_cards_path = f\"{silver_bucket}/cards-topic/\"\n\n# ----------------------------\n# 1️⃣ Write cleaned DataFrames to Silver in Parquet\n# ----------------------------\ndf_transaction.write.mode(\"overwrite\").parquet(silver_transactions_path)\ndf_users.write.mode(\"overwrite\").parquet(silver_users_path)\ndf_cards.write.mode(\"overwrite\").parquet(silver_cards_path)\nprint(\"Cleaned CSV files written to Silver in Parquet format.\")\n\n# ----------------------------\n# 2️⃣ Copy JSON files from Bronze → Silver\n# ----------------------------\ns3 = boto3.client('s3')\nfiles_to_copy = {\n    \"mcc-topic/combined_mcc-topic.json\": \"mcc-topic/combined_mcc-topic.json\",\n    \"train_fraud_labels_topic/train_fraud_labels.json\": \"train_fraud_labels_topic/train_fraud_labels.json\"\n}\n\nfor source_key, dest_key in files_to_copy.items():\n    s3.copy_object(\n        Bucket=\"aws-project-1-mskish\",\n        CopySource={\"Bucket\": \"aws-project-1-mskish\", \"Key\": source_key},\n        Key=f\"silver/{dest_key}\"\n    )\n    print(f\"{source_key} copied to silver/{dest_key}\")\n\nprint(\"All files are now in Silver layer.\")\n",
			"metadata": {
				"trusted": true,
				"tags": []
			},
			"execution_count": 36,
			"outputs": [
				{
					"name": "stdout",
					"text": "NoSuchKey: An error occurred (NoSuchKey) when calling the CopyObject operation: The specified key does not exist.\n",
					"output_type": "stream"
				}
			]
		},
		{
			"cell_type": "code",
			"source": "s3 = boto3.client('s3')\n\nfiles_to_copy = {\n    \"bronze/mcc-topic/combined_mcc-topic.json\": \"silver/mcc-topic/combined_mcc-topic.json\",\n    \"bronze/train_fraud_labels_topic/train_fraud_labels.json\": \"silver/train_fraud_labels_topic/train_fraud_labels.json\"\n}\n\nfor source_key, dest_key in files_to_copy.items():\n    # Strip the \"bronze/\" prefix from source_key for CopySource\n    bucket_name = \"aws-project-1-mskish\"\n    s3.copy_object(\n        Bucket=bucket_name,\n        CopySource={\"Bucket\": bucket_name, \"Key\": source_key},\n        Key=dest_key\n    )\n    print(f\"{source_key} copied to {dest_key}\")\n",
			"metadata": {
				"trusted": true,
				"tags": []
			},
			"execution_count": 37,
			"outputs": [
				{
					"name": "stdout",
					"text": "{'ResponseMetadata': {'RequestId': 'A8A8ZA7H72B2CFYB', 'HostId': 'X9M/r5sQd6jLFoFmCBiUdw4ZMa+eSnis1+i1b4vh+4nHYYFuXTqmS+LhCmaysLzaZafoLpTuyCE=', 'HTTPStatusCode': 200, 'HTTPHeaders': {'x-amz-id-2': 'X9M/r5sQd6jLFoFmCBiUdw4ZMa+eSnis1+i1b4vh+4nHYYFuXTqmS+LhCmaysLzaZafoLpTuyCE=', 'x-amz-request-id': 'A8A8ZA7H72B2CFYB', 'date': 'Sat, 20 Sep 2025 13:44:42 GMT', 'x-amz-server-side-encryption': 'AES256', 'content-type': 'application/xml', 'content-length': '263', 'server': 'AmazonS3'}, 'RetryAttempts': 0}, 'ServerSideEncryption': 'AES256', 'CopyObjectResult': {'ETag': '\"3225250abd99fdd1666ed9e9edcd9cc7\"', 'LastModified': datetime.datetime(2025, 9, 20, 13, 44, 42, tzinfo=tzlocal()), 'ChecksumCRC32': 'TNyOmQ=='}}\nbronze/mcc-topic/combined_mcc-topic.json copied to silver/mcc-topic/combined_mcc-topic.json\n{'ResponseMetadata': {'RequestId': 'A8A903DWA39J9T6V', 'HostId': 'eZYkHk1mOLUu9oJYmw/dC/KYehmsADk/by3pTZbS9FqHjj0HkO14r5jLqSQFOl24d5iJIZLTTdk=', 'HTTPStatusCode': 200, 'HTTPHeaders': {'x-amz-id-2': 'eZYkHk1mOLUu9oJYmw/dC/KYehmsADk/by3pTZbS9FqHjj0HkO14r5jLqSQFOl24d5iJIZLTTdk=', 'x-amz-request-id': 'A8A903DWA39J9T6V', 'date': 'Sat, 20 Sep 2025 13:44:42 GMT', 'x-amz-server-side-encryption': 'AES256', 'content-type': 'application/xml', 'content-length': '275', 'server': 'AmazonS3'}, 'RetryAttempts': 0}, 'ServerSideEncryption': 'AES256', 'CopyObjectResult': {'ETag': '\"f9c7485593920b6e86cfee2ae98c9de6\"', 'LastModified': datetime.datetime(2025, 9, 20, 13, 44, 42, tzinfo=tzlocal())}}\nbronze/train_fraud_labels_topic/train_fraud_labels.json copied to silver/train_fraud_labels_topic/train_fraud_labels.json\n",
					"output_type": "stream"
				}
			]
		},
		{
			"cell_type": "code",
			"source": "",
			"metadata": {},
			"execution_count": null,
			"outputs": []
		}
	]
}